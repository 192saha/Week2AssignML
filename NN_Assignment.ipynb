{
  "nbformat": 4,
  "nbformat_minor": 0,
  "metadata": {
    "colab": {
      "provenance": []
    },
    "kernelspec": {
      "name": "python3",
      "display_name": "Python 3"
    },
    "language_info": {
      "name": "python"
    }
  },
  "cells": [
    {
      "cell_type": "code",
      "execution_count": 2,
      "metadata": {
        "colab": {
          "base_uri": "https://localhost:8080/"
        },
        "id": "8tK-mgM68euL",
        "outputId": "3e943aa1-5c4a-411a-956b-7b454fac402b"
      },
      "outputs": [
        {
          "output_type": "stream",
          "name": "stdout",
          "text": [
            "Drive already mounted at /content/drive; to attempt to forcibly remount, call drive.mount(\"/content/drive\", force_remount=True).\n"
          ]
        }
      ],
      "source": [
        "from google.colab import drive\n",
        "drive.mount('/content/drive')\n",
        "\n",
        "import os\n",
        "import cv2\n",
        "import numpy as np\n",
        "from sklearn.model_selection import train_test_split\n",
        "\n",
        "def load_images_from_folder(folder, label):\n",
        "    images = []\n",
        "    labels = []\n",
        "    for filename in os.listdir(folder):\n",
        "        img = cv2.imread(os.path.join(folder, filename))\n",
        "        if img is not None:\n",
        "            img = cv2.resize(img, (64, 64))\n",
        "            images.append(img)\n",
        "            labels.append(label)\n",
        "    return images, labels\n",
        "\n",
        "# File paths for Homer and Bart images\n",
        "homer_path = '/content/drive/My Drive/Colab Notebooks/homer_bart/Homer'\n",
        "bart_path = '/content/drive/My Drive/Colab Notebooks/homer_bart/Bart'\n",
        "\n",
        "# Load the images and labels\n",
        "homer_images, homer_labels = load_images_from_folder(homer_path, 0)\n",
        "bart_images, bart_labels = load_images_from_folder(bart_path, 1)\n",
        "\n",
        "images = np.array(homer_images + bart_images)\n",
        "labels = np.array(homer_labels + bart_labels)"
      ]
    },
    {
      "cell_type": "code",
      "source": [
        "# Split the data into training and test sets\n",
        "X_train, X_test, y_train, y_test = train_test_split(images, labels, test_size=0.1, random_state=42)\n"
      ],
      "metadata": {
        "id": "xVr6US099Okk"
      },
      "execution_count": 3,
      "outputs": []
    },
    {
      "cell_type": "code",
      "source": [
        "import tensorflow as tf\n",
        "from tensorflow.keras.models import Sequential\n",
        "from tensorflow.keras.layers import Flatten, Dense\n",
        "\n",
        "# Normalize pixel values to be between 0 and 1\n",
        "X_train = X_train / 255.0\n",
        "X_test = X_test / 255.0\n",
        "\n",
        "# Define the model\n",
        "model = Sequential([\n",
        "    Flatten(input_shape=(64, 64, 3)),\n",
        "    Dense(128, activation='relu'),\n",
        "    Dense(64, activation='relu'),\n",
        "    Dense(1, activation='sigmoid')\n",
        "])\n",
        "\n",
        "# Compile the model\n",
        "model.compile(optimizer='adam',\n",
        "              loss='binary_crossentropy',\n",
        "              metrics=['accuracy'])\n",
        "\n",
        "model.summary()\n"
      ],
      "metadata": {
        "colab": {
          "base_uri": "https://localhost:8080/"
        },
        "id": "FpCEkMLb9Ui7",
        "outputId": "cd1564e8-6035-427e-df5e-a5091afdfcde"
      },
      "execution_count": 4,
      "outputs": [
        {
          "output_type": "stream",
          "name": "stdout",
          "text": [
            "Model: \"sequential\"\n",
            "_________________________________________________________________\n",
            " Layer (type)                Output Shape              Param #   \n",
            "=================================================================\n",
            " flatten (Flatten)           (None, 12288)             0         \n",
            "                                                                 \n",
            " dense (Dense)               (None, 128)               1572992   \n",
            "                                                                 \n",
            " dense_1 (Dense)             (None, 64)                8256      \n",
            "                                                                 \n",
            " dense_2 (Dense)             (None, 1)                 65        \n",
            "                                                                 \n",
            "=================================================================\n",
            "Total params: 1581313 (6.03 MB)\n",
            "Trainable params: 1581313 (6.03 MB)\n",
            "Non-trainable params: 0 (0.00 Byte)\n",
            "_________________________________________________________________\n"
          ]
        }
      ]
    },
    {
      "cell_type": "code",
      "source": [
        "# Train the model\n",
        "history = model.fit(X_train, y_train, epochs=10, batch_size=32, validation_data=(X_test, y_test))\n",
        "\n",
        "# Evaluate the model on the test data\n",
        "test_loss, test_accuracy = model.evaluate(X_test, y_test)\n",
        "print(f'Test Accuracy: {test_accuracy}')\n"
      ],
      "metadata": {
        "colab": {
          "base_uri": "https://localhost:8080/"
        },
        "id": "LIv50UeQ9lp0",
        "outputId": "31a59277-6e54-4b00-a075-d860850925e7"
      },
      "execution_count": 5,
      "outputs": [
        {
          "output_type": "stream",
          "name": "stdout",
          "text": [
            "Epoch 1/10\n",
            "8/8 [==============================] - 3s 97ms/step - loss: 2.3736 - accuracy: 0.5618 - val_loss: 0.5616 - val_accuracy: 0.7143\n",
            "Epoch 2/10\n",
            "8/8 [==============================] - 0s 44ms/step - loss: 0.6320 - accuracy: 0.6574 - val_loss: 0.7649 - val_accuracy: 0.7143\n",
            "Epoch 3/10\n",
            "8/8 [==============================] - 0s 59ms/step - loss: 0.6071 - accuracy: 0.7211 - val_loss: 0.4405 - val_accuracy: 0.6786\n",
            "Epoch 4/10\n",
            "8/8 [==============================] - 0s 57ms/step - loss: 0.4684 - accuracy: 0.7769 - val_loss: 0.7293 - val_accuracy: 0.7143\n",
            "Epoch 5/10\n",
            "8/8 [==============================] - 1s 74ms/step - loss: 0.4819 - accuracy: 0.7888 - val_loss: 0.6085 - val_accuracy: 0.7143\n",
            "Epoch 6/10\n",
            "8/8 [==============================] - 0s 58ms/step - loss: 0.5878 - accuracy: 0.7490 - val_loss: 0.6612 - val_accuracy: 0.7143\n",
            "Epoch 7/10\n",
            "8/8 [==============================] - 1s 77ms/step - loss: 0.4624 - accuracy: 0.8127 - val_loss: 0.4076 - val_accuracy: 0.7857\n",
            "Epoch 8/10\n",
            "8/8 [==============================] - 1s 64ms/step - loss: 0.5385 - accuracy: 0.7371 - val_loss: 0.5154 - val_accuracy: 0.7500\n",
            "Epoch 9/10\n",
            "8/8 [==============================] - 1s 70ms/step - loss: 0.6086 - accuracy: 0.7610 - val_loss: 0.8265 - val_accuracy: 0.7143\n",
            "Epoch 10/10\n",
            "8/8 [==============================] - 1s 131ms/step - loss: 0.3267 - accuracy: 0.8566 - val_loss: 0.4248 - val_accuracy: 0.8571\n",
            "1/1 [==============================] - 0s 37ms/step - loss: 0.4248 - accuracy: 0.8571\n",
            "Test Accuracy: 0.8571428656578064\n"
          ]
        }
      ]
    }
  ]
}